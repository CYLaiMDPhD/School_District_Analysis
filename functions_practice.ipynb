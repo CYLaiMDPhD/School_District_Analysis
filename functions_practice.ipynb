{
 "cells": [
  {
   "cell_type": "markdown",
   "id": "5799856a",
   "metadata": {},
   "source": [
    "### Practice making functions"
   ]
  },
  {
   "cell_type": "code",
   "execution_count": 1,
   "id": "77b6127f",
   "metadata": {},
   "outputs": [],
   "source": [
    "def say_hello():\n",
    "    print(\"Hello!\")"
   ]
  },
  {
   "cell_type": "code",
   "execution_count": 3,
   "id": "1a552b25",
   "metadata": {},
   "outputs": [
    {
     "name": "stdout",
     "output_type": "stream",
     "text": [
      "Hello!\n"
     ]
    }
   ],
   "source": [
    "say_hello()"
   ]
  },
  {
   "cell_type": "code",
   "execution_count": 4,
   "id": "a1841713",
   "metadata": {},
   "outputs": [],
   "source": [
    "def say_something(something):\n",
    "    print(something)"
   ]
  },
  {
   "cell_type": "code",
   "execution_count": 5,
   "id": "e52b8242",
   "metadata": {},
   "outputs": [
    {
     "name": "stdout",
     "output_type": "stream",
     "text": [
      "What?\n"
     ]
    }
   ],
   "source": [
    "say_something(\"What?\")"
   ]
  },
  {
   "cell_type": "code",
   "execution_count": 6,
   "id": "0125ddeb",
   "metadata": {},
   "outputs": [
    {
     "name": "stdout",
     "output_type": "stream",
     "text": [
      "Hi, my name is Jane. I'm learning Python!\n"
     ]
    }
   ],
   "source": [
    "Jane_says = \"Hi, my name is Jane. I'm learning Python!\"\n",
    "say_something(Jane_says)"
   ]
  },
  {
   "cell_type": "markdown",
   "id": "a7c14a71",
   "metadata": {},
   "source": [
    "### Using the map() function"
   ]
  },
  {
   "cell_type": "code",
   "execution_count": 7,
   "id": "2f7b28de",
   "metadata": {},
   "outputs": [],
   "source": [
    "# A list of grades\n",
    "my_grades = [\"B\",\"C\",\"B\",\"D\"]"
   ]
  },
  {
   "cell_type": "code",
   "execution_count": 8,
   "id": "a823c56d",
   "metadata": {},
   "outputs": [
    {
     "data": {
      "text/plain": [
       "0    B\n",
       "1    C\n",
       "2    B\n",
       "3    D\n",
       "dtype: object"
      ]
     },
     "execution_count": 8,
     "metadata": {},
     "output_type": "execute_result"
    }
   ],
   "source": [
    "import pandas as pd\n",
    "\n",
    "# Convert my_grades into a series\n",
    "my_grades = pd.Series(my_grades)\n",
    "my_grades"
   ]
  },
  {
   "cell_type": "code",
   "execution_count": 9,
   "id": "d31b3ffd",
   "metadata": {},
   "outputs": [
    {
     "data": {
      "text/plain": [
       "0    A\n",
       "1    B\n",
       "2    A\n",
       "3    C\n",
       "dtype: object"
      ]
     },
     "execution_count": 9,
     "metadata": {},
     "output_type": "execute_result"
    }
   ],
   "source": [
    "# Use map function to change grades by one grade higher\n",
    "my_grades.map({\"B\":\"A\", \"C\":\"B\", \"D\":\"C\"})"
   ]
  },
  {
   "cell_type": "code",
   "execution_count": 10,
   "id": "bd3ffaee",
   "metadata": {},
   "outputs": [
    {
     "data": {
      "text/plain": [
       "0    B\n",
       "1    C\n",
       "2    B\n",
       "3    D\n",
       "dtype: object"
      ]
     },
     "execution_count": 10,
     "metadata": {},
     "output_type": "execute_result"
    }
   ],
   "source": [
    "my_grades\n",
    "# Note - the original series has not be altered here because the variable my_grades was not reset to the mapped output."
   ]
  },
  {
   "cell_type": "markdown",
   "id": "32520551",
   "metadata": {},
   "source": [
    "### Using the format() function"
   ]
  },
  {
   "cell_type": "code",
   "execution_count": 12,
   "id": "9b067c38",
   "metadata": {},
   "outputs": [
    {
     "name": "stdout",
     "output_type": "stream",
     "text": [
      "92\n",
      "85\n",
      "87\n",
      "98\n"
     ]
    }
   ],
   "source": [
    "my_num_grades = [92.34, 84.56, 86.78, 98.32]\n",
    "\n",
    "for grade in my_num_grades:\n",
    "    print('{:.0f}'.format(grade))"
   ]
  },
  {
   "cell_type": "code",
   "execution_count": 13,
   "id": "09652b20",
   "metadata": {},
   "outputs": [
    {
     "ename": "SyntaxError",
     "evalue": "invalid syntax (<ipython-input-13-fe84bc9789bd>, line 3)",
     "output_type": "error",
     "traceback": [
      "\u001b[0;36m  File \u001b[0;32m\"<ipython-input-13-fe84bc9789bd>\"\u001b[0;36m, line \u001b[0;32m3\u001b[0m\n\u001b[0;31m    print(grade:.1f)\u001b[0m\n\u001b[0m               ^\u001b[0m\n\u001b[0;31mSyntaxError\u001b[0m\u001b[0;31m:\u001b[0m invalid syntax\n"
     ]
    }
   ],
   "source": [
    "# : after the variable won't work alone!\n",
    "for grade in my_num_grades:\n",
    "    print(grade:.1f)"
   ]
  },
  {
   "cell_type": "code",
   "execution_count": 14,
   "id": "2324c501",
   "metadata": {},
   "outputs": [
    {
     "name": "stdout",
     "output_type": "stream",
     "text": [
      "92.3\n",
      "84.6\n",
      "86.8\n",
      "98.3\n"
     ]
    }
   ],
   "source": [
    "# But printing with f\"string will work!\n",
    "for grade in my_num_grades:\n",
    "    print(f'{grade:.1f}')"
   ]
  },
  {
   "cell_type": "markdown",
   "id": "dc8d5d17",
   "metadata": {},
   "source": [
    "### Chaining map() and format() functions"
   ]
  },
  {
   "cell_type": "code",
   "execution_count": 15,
   "id": "90c119cb",
   "metadata": {},
   "outputs": [
    {
     "data": {
      "text/plain": [
       "0    92.34\n",
       "1    84.56\n",
       "2    86.78\n",
       "3    98.32\n",
       "dtype: float64"
      ]
     },
     "execution_count": 15,
     "metadata": {},
     "output_type": "execute_result"
    }
   ],
   "source": [
    "my_num_grades = pd.Series(my_num_grades)\n",
    "my_num_grades"
   ]
  },
  {
   "cell_type": "code",
   "execution_count": 16,
   "id": "ceeb77f7",
   "metadata": {},
   "outputs": [
    {
     "data": {
      "text/plain": [
       "0    92\n",
       "1    85\n",
       "2    87\n",
       "3    98\n",
       "dtype: object"
      ]
     },
     "execution_count": 16,
     "metadata": {},
     "output_type": "execute_result"
    }
   ],
   "source": [
    "my_num_grades.map(\"{:.0f}\".format)"
   ]
  },
  {
   "cell_type": "code",
   "execution_count": null,
   "id": "ee5f3664",
   "metadata": {},
   "outputs": [],
   "source": []
  }
 ],
 "metadata": {
  "kernelspec": {
   "display_name": "M4PythonData37",
   "language": "python",
   "name": "m4pythondata37"
  },
  "language_info": {
   "codemirror_mode": {
    "name": "ipython",
    "version": 3
   },
   "file_extension": ".py",
   "mimetype": "text/x-python",
   "name": "python",
   "nbconvert_exporter": "python",
   "pygments_lexer": "ipython3",
   "version": "3.8.8"
  }
 },
 "nbformat": 4,
 "nbformat_minor": 5
}
